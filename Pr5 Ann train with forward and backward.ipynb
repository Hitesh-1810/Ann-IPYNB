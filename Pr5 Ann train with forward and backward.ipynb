{
 "cells": [
  {
   "cell_type": "code",
   "execution_count": 56,
   "id": "8aa72710-456e-433e-ac40-f1bf1b342b41",
   "metadata": {},
   "outputs": [],
   "source": [
    "import numpy as np\n"
   ]
  },
  {
   "cell_type": "code",
   "execution_count": 58,
   "id": "89b7d5e7-6ee2-4ad7-a750-c7e7d8ce8353",
   "metadata": {},
   "outputs": [],
   "source": [
    "# Activation function (sigmoid)\n",
    "def sigmoid(x):\n",
    "    return 1 / (1 + np.exp(-x))\n"
   ]
  },
  {
   "cell_type": "code",
   "execution_count": 60,
   "id": "341fc5c8-4143-4cff-928b-eca3c0b60e8c",
   "metadata": {},
   "outputs": [],
   "source": [
    "# Derivative of sigmoid function\n",
    "def sigmoid_derivative(x):\n",
    "    return x * (1 - x)\n"
   ]
  },
  {
   "cell_type": "code",
   "execution_count": 62,
   "id": "98a02725-8347-4c0c-ba4d-b3cea67825b1",
   "metadata": {},
   "outputs": [],
   "source": [
    "# Define the ANN class\n",
    "class NeuralNetwork:\n",
    "    def __init__(self, layers):\n",
    "        self.layers = layers\n",
    "        self.weights = []\n",
    "        for i in range(1, len(layers)):\n",
    "            self.weights.append(np.random.randn(layers[i - 1], layers[i]))\n",
    "\n",
    "    def forward_propagation(self, X):\n",
    "        self.activations = [X]\n",
    "        self.z_values = []\n",
    "        for i in range(len(self.layers) - 1):\n",
    "            z = np.dot(self.activations[i], self.weights[i])\n",
    "            self.z_values.append(z)\n",
    "            activation = sigmoid(z)\n",
    "            self.activations.append(activation)\n",
    "        return self.activations[-1]\n",
    "\n",
    "    def backward_propagation(self, X, y, learning_rate):\n",
    "        output = self.forward_propagation(X)\n",
    "        error = y - output\n",
    "        delta = error * sigmoid_derivative(output)\n",
    "\n",
    "        for i in range(len(self.layers) - 2, -1, -1):\n",
    "            gradient = np.dot(self.activations[i].T, delta)\n",
    "            self.weights[i] += learning_rate * gradient\n",
    "\n",
    "            error = np.dot(delta, self.weights[i].T)\n",
    "            delta = error * sigmoid_derivative(self.activations[i])\n",
    "\n",
    "    def train(self, X, y, epochs, learning_rate):\n",
    "        for epoch in range(epochs):\n",
    "            self.backward_propagation(X, y, learning_rate)\n",
    "\n",
    "        return self.forward_propagation(X)\n"
   ]
  },
  {
   "cell_type": "code",
   "execution_count": 64,
   "id": "02bfddbe-218c-4d73-a272-c6f044a591c1",
   "metadata": {},
   "outputs": [],
   "source": [
    "# Testing the ANN\n",
    "X = np.array([[0, 0], [0, 1], [1, 0], [1, 1]])\n",
    "y = np.array([[0], [1], [1], [0]])\n"
   ]
  },
  {
   "cell_type": "code",
   "execution_count": 66,
   "id": "c227d027-2f94-451a-83ce-991784a44d81",
   "metadata": {},
   "outputs": [],
   "source": [
    "# Define the network architecture\n",
    "layers = [2, 4, 1]\n"
   ]
  },
  {
   "cell_type": "code",
   "execution_count": 68,
   "id": "bffb8fab-de73-4a6d-a311-df2e9fca5b79",
   "metadata": {},
   "outputs": [],
   "source": [
    "# Create an instance of the NeuralNetwork class\n",
    "nn = NeuralNetwork(layers)\n"
   ]
  },
  {
   "cell_type": "code",
   "execution_count": 70,
   "id": "7ef3dffb-942a-498b-9ec2-86390a4c2804",
   "metadata": {},
   "outputs": [],
   "source": [
    "# Train the network\n",
    "output = nn.train(X, y, epochs=10000, learning_rate=0.1)\n"
   ]
  },
  {
   "cell_type": "code",
   "execution_count": 72,
   "id": "75d12459-b64b-4905-9dae-0fc50f007a75",
   "metadata": {},
   "outputs": [
    {
     "name": "stdout",
     "output_type": "stream",
     "text": [
      "Output after training:\n",
      " [[0.07717941]\n",
      " [0.93752535]\n",
      " [0.92886016]\n",
      " [0.0652641 ]]\n"
     ]
    }
   ],
   "source": [
    "# Print the output after training\n",
    "print(\"Output after training:\\n\", output)\n"
   ]
  },
  {
   "cell_type": "code",
   "execution_count": null,
   "id": "f865158a-ca40-4524-baa0-2fc8618c0923",
   "metadata": {},
   "outputs": [],
   "source": []
  }
 ],
 "metadata": {
  "kernelspec": {
   "display_name": "Python [conda env:anaconda3]",
   "language": "python",
   "name": "conda-env-anaconda3-py"
  },
  "language_info": {
   "codemirror_mode": {
    "name": "ipython",
    "version": 3
   },
   "file_extension": ".py",
   "mimetype": "text/x-python",
   "name": "python",
   "nbconvert_exporter": "python",
   "pygments_lexer": "ipython3",
   "version": "3.12.7"
  }
 },
 "nbformat": 4,
 "nbformat_minor": 5
}
